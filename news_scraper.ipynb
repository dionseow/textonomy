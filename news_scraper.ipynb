{
 "cells": [
  {
   "cell_type": "code",
   "execution_count": 92,
   "id": "junior-motorcycle",
   "metadata": {},
   "outputs": [],
   "source": [
    "import pandas as pd\n",
    "import requests\n",
    "from bs4 import BeautifulSoup\n",
    "import re\n",
    "from datetime import date, timedelta"
   ]
  },
  {
   "cell_type": "code",
   "execution_count": 76,
   "id": "renewable-seventh",
   "metadata": {},
   "outputs": [],
   "source": [
    "def extract_from_url(url):\n",
    "    response = requests.get(url)\n",
    "    soup = BeautifulSoup(response.text, \"html.parser\")\n",
    "    return soup\n",
    "\n",
    "def remove_html_tags(text):\n",
    "    return re.sub(\"<.*?>\", \"\", text)"
   ]
  },
  {
   "cell_type": "code",
   "execution_count": 95,
   "id": "romantic-disclaimer",
   "metadata": {},
   "outputs": [],
   "source": [
    "start_date = date(2021, 1, 1)\n",
    "end_date = date(2021, 2, 1)"
   ]
  },
  {
   "cell_type": "code",
   "execution_count": 111,
   "id": "preliminary-replication",
   "metadata": {},
   "outputs": [
    {
     "data": {
      "text/plain": [
       "[]"
      ]
     },
     "execution_count": 111,
     "metadata": {},
     "output_type": "execute_result"
    }
   ],
   "source": [
    "articles_for_page"
   ]
  },
  {
   "cell_type": "code",
   "execution_count": 114,
   "id": "separated-owner",
   "metadata": {},
   "outputs": [
    {
     "name": "stdout",
     "output_type": "stream",
     "text": [
      "&date=2021-01-01\n",
      "&date=2021-01-02\n",
      "&date=2021-01-03\n",
      "&date=2021-01-04\n",
      "&date=2021-01-05\n",
      "&date=2021-01-06\n",
      "&date=2021-01-07\n"
     ]
    },
    {
     "ename": "IndexError",
     "evalue": "list index out of range",
     "output_type": "error",
     "traceback": [
      "\u001b[0;31m---------------------------------------------------------------------------\u001b[0m",
      "\u001b[0;31mIndexError\u001b[0m                                Traceback (most recent call last)",
      "\u001b[0;32m<ipython-input-114-7424b61f824a>\u001b[0m in \u001b[0;36m<module>\u001b[0;34m\u001b[0m\n\u001b[1;32m     24\u001b[0m         \u001b[0;32mfor\u001b[0m \u001b[0marticle\u001b[0m \u001b[0;32min\u001b[0m \u001b[0marticles_for_page\u001b[0m\u001b[0;34m:\u001b[0m\u001b[0;34m\u001b[0m\u001b[0;34m\u001b[0m\u001b[0m\n\u001b[1;32m     25\u001b[0m             \u001b[0mlink\u001b[0m \u001b[0;34m=\u001b[0m \u001b[0marticle\u001b[0m\u001b[0;34m.\u001b[0m\u001b[0mfindAll\u001b[0m\u001b[0;34m(\u001b[0m\u001b[0;34m\"a\"\u001b[0m\u001b[0;34m,\u001b[0m \u001b[0;34m{\u001b[0m\u001b[0;34m\"class\"\u001b[0m\u001b[0;34m:\u001b[0m \u001b[0;34m\"article__link\"\u001b[0m\u001b[0;34m}\u001b[0m\u001b[0;34m)\u001b[0m\u001b[0;34m[\u001b[0m\u001b[0;36m0\u001b[0m\u001b[0;34m]\u001b[0m\u001b[0;34m.\u001b[0m\u001b[0mget\u001b[0m\u001b[0;34m(\u001b[0m\u001b[0;34m\"href\"\u001b[0m\u001b[0;34m)\u001b[0m\u001b[0;34m\u001b[0m\u001b[0;34m\u001b[0m\u001b[0m\n\u001b[0;32m---> 26\u001b[0;31m             \u001b[0mtext\u001b[0m \u001b[0;34m=\u001b[0m \u001b[0mextract_from_url\u001b[0m\u001b[0;34m(\u001b[0m\u001b[0mlink\u001b[0m\u001b[0;34m)\u001b[0m\u001b[0;34m.\u001b[0m\u001b[0mfindAll\u001b[0m\u001b[0;34m(\u001b[0m\u001b[0;34m\"div\"\u001b[0m\u001b[0;34m,\u001b[0m \u001b[0;34m{\u001b[0m\u001b[0;34m\"class\"\u001b[0m\u001b[0;34m:\u001b[0m \u001b[0;34m\"read__content\"\u001b[0m\u001b[0;34m}\u001b[0m\u001b[0;34m)\u001b[0m\u001b[0;34m[\u001b[0m\u001b[0;36m0\u001b[0m\u001b[0;34m]\u001b[0m\u001b[0;34m\u001b[0m\u001b[0;34m\u001b[0m\u001b[0m\n\u001b[0m\u001b[1;32m     27\u001b[0m             \u001b[0mtext\u001b[0m \u001b[0;34m=\u001b[0m \u001b[0mremove_html_tags\u001b[0m\u001b[0;34m(\u001b[0m\u001b[0mstr\u001b[0m\u001b[0;34m(\u001b[0m\u001b[0mtext\u001b[0m\u001b[0;34m)\u001b[0m\u001b[0;34m)\u001b[0m\u001b[0;34m\u001b[0m\u001b[0;34m\u001b[0m\u001b[0m\n\u001b[1;32m     28\u001b[0m             \u001b[0mtitle\u001b[0m \u001b[0;34m=\u001b[0m \u001b[0marticle\u001b[0m\u001b[0;34m.\u001b[0m\u001b[0mfindAll\u001b[0m\u001b[0;34m(\u001b[0m\u001b[0;34m\"h3\"\u001b[0m\u001b[0;34m,\u001b[0m \u001b[0;34m{\u001b[0m\u001b[0;34m\"class\"\u001b[0m\u001b[0;34m:\u001b[0m \u001b[0;34m\"article__title\"\u001b[0m\u001b[0;34m}\u001b[0m\u001b[0;34m)\u001b[0m\u001b[0;34m[\u001b[0m\u001b[0;36m0\u001b[0m\u001b[0;34m]\u001b[0m\u001b[0;34m.\u001b[0m\u001b[0mget_text\u001b[0m\u001b[0;34m(\u001b[0m\u001b[0;34m)\u001b[0m\u001b[0;34m\u001b[0m\u001b[0;34m\u001b[0m\u001b[0m\n",
      "\u001b[0;31mIndexError\u001b[0m: list index out of range"
     ]
    }
   ],
   "source": [
    "dates = list(pd.date_range(start_date, end_date))\n",
    "\n",
    "all_articles = []\n",
    "\n",
    "for date in dates:\n",
    "    date = date.strftime(\"%Y-%m-%d\")\n",
    "    date_str = f\"&date={date}\"\n",
    "    print(date_str)\n",
    "    \n",
    "    counter = 1\n",
    "    has_next_page = True\n",
    "    \n",
    "    while has_next_page:\n",
    "        if counter == 1:\n",
    "            page_str = \"\"\n",
    "        else:\n",
    "            page_str = f\"&page={counter}\"\n",
    "        \n",
    "        soup = extract_from_url(f\"https://indeks.kompas.com/?site=all{date_str}{page_str}\")\n",
    "        articles_for_page = soup.findAll(\"div\", {\"class\": \"article__list clearfix\"})\n",
    "        if not articles_for_page:\n",
    "            has_next_page = False\n",
    "        \n",
    "        for article in articles_for_page:\n",
    "            link = article.findAll(\"a\", {\"class\": \"article__link\"})[0].get(\"href\")\n",
    "            text = extract_from_url(link).findAll(\"div\", {\"class\": \"read__content\"})[0]\n",
    "            text = remove_html_tags(str(text))\n",
    "            title = article.findAll(\"h3\", {\"class\": \"article__title\"})[0].get_text()\n",
    "            topic = article.findAll(\"div\", {\"class\": \"article__subtitle\"})[0].get_text()\n",
    "            datetime = article.findAll(\"div\", {\"class\": \"article__date\"})[0].get_text()\n",
    "            all_articles.append({\"link\": link,\n",
    "                                 \"title\": title,\n",
    "                                 \"topic\": topic,\n",
    "                                 \"datetime\": datetime,\n",
    "                                 \"text\": text})\n",
    "        counter += 1\n",
    "    continue"
   ]
  },
  {
   "cell_type": "code",
   "execution_count": 80,
   "id": "accepted-scanner",
   "metadata": {},
   "outputs": [],
   "source": [
    "df = pd.DataFrame(all_articles)"
   ]
  },
  {
   "cell_type": "code",
   "execution_count": null,
   "id": "dependent-wesley",
   "metadata": {},
   "outputs": [],
   "source": []
  }
 ],
 "metadata": {
  "kernelspec": {
   "display_name": "Python 3",
   "language": "python",
   "name": "python3"
  },
  "language_info": {
   "codemirror_mode": {
    "name": "ipython",
    "version": 3
   },
   "file_extension": ".py",
   "mimetype": "text/x-python",
   "name": "python",
   "nbconvert_exporter": "python",
   "pygments_lexer": "ipython3",
   "version": "3.6.12"
  }
 },
 "nbformat": 4,
 "nbformat_minor": 5
}
